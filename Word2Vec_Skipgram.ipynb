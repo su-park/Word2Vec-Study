{
 "cells": [
  {
   "cell_type": "code",
   "execution_count": null,
   "metadata": {},
   "outputs": [],
   "source": [
    "## SET LIBARY"
   ]
  },
  {
   "cell_type": "code",
   "execution_count": 1,
   "metadata": {},
   "outputs": [
    {
     "name": "stderr",
     "output_type": "stream",
     "text": [
      "Using TensorFlow backend.\n"
     ]
    }
   ],
   "source": [
    "import random\n",
    "import numpy as np\n",
    "np.random.seed(13)\n",
    "import gensim\n",
    "\n",
    "from keras.models import Model\n",
    "from keras.layers import Embedding, Reshape, Activation, Input\n",
    "from keras.preprocessing import sequence\n",
    "from keras.layers.merge import Dot\n",
    "from keras.utils import np_utils\n",
    "from keras.utils.data_utils import get_file\n",
    "from keras.utils.vis_utils import model_to_dot\n",
    "from keras.preprocessing.text import Tokenizer\n",
    "# from keras.preprocessing.sequence import skipgrams\n",
    "from IPython.display import Image"
   ]
  },
  {
   "cell_type": "code",
   "execution_count": null,
   "metadata": {},
   "outputs": [],
   "source": [
    "!pip install pydot\n",
    "!pip install gensim"
   ]
  },
  {
   "cell_type": "code",
   "execution_count": null,
   "metadata": {},
   "outputs": [],
   "source": [
    "## DATALOADER"
   ]
  },
  {
   "cell_type": "code",
   "execution_count": 3,
   "metadata": {},
   "outputs": [],
   "source": [
    "def dataloader(sequence, vocabulary_size,\n",
    "               window_size=window_size, negative_samples=1., shuffle=True,\n",
    "               categorical=False, sampling_table=None, seed=None):\n",
    "    # Objective: Generates skipgram word pairs\n",
    "    # For Negative cases randomly generate some out-of-context word with the target word\n",
    "    # Input: Word Sequence\n",
    "    # Output: Word pairs and labels\n",
    "    couples = []\n",
    "    labels = []\n",
    "    for i, wi in enumerate(sequence):\n",
    "        if not wi:\n",
    "            continue\n",
    "        if sampling_table is not None:\n",
    "            if sampling_table[wi] < random.random():\n",
    "                continue\n",
    "\n",
    "        window_start = max(0, i - window_size)\n",
    "        window_end = min(len(sequence), i + window_size + 1)\n",
    "        for j in range(window_start, window_end):\n",
    "            if j != i:\n",
    "                wj = sequence[j]\n",
    "                if not wj:\n",
    "                    continue\n",
    "                couples.append([wi, wj])\n",
    "                if categorical:\n",
    "                    labels.append([0, 1])\n",
    "                else:\n",
    "                    labels.append(1)\n",
    "\n",
    "    if negative_samples > 0:\n",
    "        num_negative_samples = int(len(labels) * negative_samples)\n",
    "        words = [c[0] for c in couples]\n",
    "        random.shuffle(words)\n",
    "\n",
    "        couples += [[words[i % len(words)],\n",
    "                    random.randint(1, vocabulary_size - 1)]\n",
    "                    for i in range(num_negative_samples)]\n",
    "        if categorical:\n",
    "            labels += [[1, 0]] * num_negative_samples\n",
    "        else:\n",
    "            labels += [0] * num_negative_samples\n",
    "\n",
    "    if shuffle:\n",
    "        if seed is None:\n",
    "            seed = random.randint(0, 10e6)\n",
    "        random.seed(seed)\n",
    "        random.shuffle(couples)\n",
    "        random.seed(seed)\n",
    "        random.shuffle(labels)\n",
    "        \n",
    "    return couples, labels"
   ]
  },
  {
   "cell_type": "code",
   "execution_count": 24,
   "metadata": {},
   "outputs": [
    {
     "name": "stdout",
     "output_type": "stream",
     "text": [
      "Vocabulary size: 3388\n"
     ]
    }
   ],
   "source": [
    "path = get_file('alice.txt', origin='http://www.gutenberg.org/files/11/11-0.txt')\n",
    "corpus = open(path, encoding=\"utf-8\").readlines()\n",
    "corpus = [sentence for sentence in corpus if sentence.count(' ') >= 2]\n",
    "tokenizer = Tokenizer()\n",
    "tokenizer.fit_on_texts(corpus)\n",
    "\n",
    "vocab_size = len(tokenizer.word_index) + 1\n",
    "print(\"Vocabulary size: {}\".format(vocab_size))"
   ]
  },
  {
   "cell_type": "code",
   "execution_count": 5,
   "metadata": {},
   "outputs": [
    {
     "data": {
      "text/plain": [
       "['\\ufeffProject Gutenberg’s Alice’s Adventures in Wonderland, by Lewis Carroll\\n',\n",
       " 'This eBook is for the use of anyone anywhere at no cost and with\\n',\n",
       " 'almost no restrictions whatsoever.  You may copy it, give it away or\\n',\n",
       " 're-use it under the terms of the Project Gutenberg License included\\n',\n",
       " 'with this eBook or online at www.gutenberg.org\\n']"
      ]
     },
     "execution_count": 5,
     "metadata": {},
     "output_type": "execute_result"
    }
   ],
   "source": [
    "corpus[:5]"
   ]
  },
  {
   "cell_type": "code",
   "execution_count": 9,
   "metadata": {},
   "outputs": [],
   "source": [
    "for i, doc in enumerate(tokenizer.texts_to_sequences(corpus)):\n",
    "    x_sample, y_sample = dataloader(sequence=doc, vocabulary_size=vocab_size, window_size=5, negative_samples=5.)\n",
    "    break"
   ]
  },
  {
   "cell_type": "code",
   "execution_count": 13,
   "metadata": {},
   "outputs": [
    {
     "name": "stdout",
     "output_type": "stream",
     "text": [
      "Load data instances: [[479, 2466], [1005, 2918], [479, 1916], [1004, 420], [1823, 1693]]\n",
      "Format data into input data: [array([ 479, 1005,  479, 1004, 1823]), array([2466, 2918, 1916,  420, 1693])]\n",
      "Load label instances: [0, 0, 0, 0, 0]\n"
     ]
    }
   ],
   "source": [
    "print(\"Load data instances: {}\".format(x_sample[:5]))\n",
    "print(\"Format data into input data: {}\".format([np.array(x) for x in zip(*x_sample[:5])]))\n",
    "print(\"Load label instances: {}\".format(y_sample[:5]))"
   ]
  },
  {
   "cell_type": "code",
   "execution_count": null,
   "metadata": {},
   "outputs": [],
   "source": [
    "## SET SKIPGRAM GRAPH\n",
    "## By taking pair of words from the document and then saying output is 1 in the case the second word is the context word."
   ]
  },
  {
   "cell_type": "code",
   "execution_count": 6,
   "metadata": {},
   "outputs": [
    {
     "name": "stdout",
     "output_type": "stream",
     "text": [
      "__________________________________________________________________________________________________\n",
      "Layer (type)                    Output Shape         Param #     Connected to                     \n",
      "==================================================================================================\n",
      "input_1 (InputLayer)            (None, 1)            0                                            \n",
      "__________________________________________________________________________________________________\n",
      "input_2 (InputLayer)            (None, 1)            0                                            \n",
      "__________________________________________________________________________________________________\n",
      "embedding_1 (Embedding)         (None, 1, 100)       338800      input_1[0][0]                    \n",
      "__________________________________________________________________________________________________\n",
      "embedding_2 (Embedding)         (None, 1, 100)       338800      input_2[0][0]                    \n",
      "__________________________________________________________________________________________________\n",
      "dot_1 (Dot)                     (None, 1, 1)         0           embedding_1[0][0]                \n",
      "                                                                 embedding_2[0][0]                \n",
      "__________________________________________________________________________________________________\n",
      "reshape_1 (Reshape)             (None, 1)            0           dot_1[0][0]                      \n",
      "__________________________________________________________________________________________________\n",
      "activation_1 (Activation)       (None, 1)            0           reshape_1[0][0]                  \n",
      "==================================================================================================\n",
      "Total params: 677,600\n",
      "Trainable params: 677,600\n",
      "Non-trainable params: 0\n",
      "__________________________________________________________________________________________________\n"
     ]
    }
   ],
   "source": [
    "dim_embed = 100\n",
    "\n",
    "# Word Inputs\n",
    "input_words = Input(shape=(1, ), dtype='int32')\n",
    "embed_words = Embedding(vocab_size, dim_embed)(input_words)\n",
    "\n",
    "# Context Inputs\n",
    "input_ctxts = Input(shape=(1, ), dtype='int32')\n",
    "embed_ctxts = Embedding(vocab_size, dim_embed)(input_ctxts)\n",
    "\n",
    "output = Dot(axes=2)([embed_words, embed_ctxts])\n",
    "output = Reshape((1, ), input_shape=(1, 1))(output)\n",
    "output = Activation('sigmoid')(output)\n",
    "\n",
    "gph = Model(inputs=[input_words, input_ctxts], outputs=output)\n",
    "gph.compile(loss='binary_crossentropy', optimizer='adam')\n",
    "gph.summary()"
   ]
  },
  {
   "cell_type": "code",
   "execution_count": 7,
   "metadata": {},
   "outputs": [
    {
     "data": {
      "image/png": "[encoded data removed]",
      "text/plain": [
       "<IPython.core.display.Image object>"
      ]
     },
     "execution_count": 7,
     "metadata": {},
     "output_type": "execute_result"
    }
   ],
   "source": [
    "Image(model_to_dot(gph, show_shapes=True).create(prog='dot', format='png'))"
   ]
  },
  {
   "cell_type": "code",
   "execution_count": null,
   "metadata": {},
   "outputs": [],
   "source": [
    "## TRAIN"
   ]
  },
  {
   "cell_type": "code",
   "execution_count": 16,
   "metadata": {},
   "outputs": [
    {
     "name": "stdout",
     "output_type": "stream",
     "text": [
      "0 1097.907870143652\n",
      "1 753.7180339954793\n",
      "2 698.2168588116765\n",
      "3 669.3916662968695\n",
      "4 647.1412664018571\n"
     ]
    }
   ],
   "source": [
    "for ite in range(5):\n",
    "    loss = 0.\n",
    "    for i, doc in enumerate(tokenizer.texts_to_sequences(corpus)):\n",
    "        data, labels = dataloader(sequence=doc, vocabulary_size=vocab_size, window_size=5, negative_samples=5.)\n",
    "        x = [np.array(x) for x in zip(*data)]\n",
    "        y = np.array(labels, dtype=np.int32)\n",
    "        if x:\n",
    "            loss += gph.train_on_batch(x, y)\n",
    "    print(ite, loss)"
   ]
  },
  {
   "cell_type": "code",
   "execution_count": null,
   "metadata": {},
   "outputs": [],
   "source": [
    "## Embedding"
   ]
  },
  {
   "cell_type": "code",
   "execution_count": 30,
   "metadata": {},
   "outputs": [
    {
     "name": "stdout",
     "output_type": "stream",
     "text": [
      "the 0.06485613 0.19011748 -0.31508714 0.09316213 -0.3482375 0.06865945 -0.20542982 0.07245401 -0.1240688 -0.21135494 -0.068385385 -0.39660135 -0.076997794 -0.14815845 0.041868776 -0.10246736 -0.048519395 0.29590258 -0.4678977 -0.20503885 -0.071554676 -0.3550916 -0.08611552 0.059816264 -0.20631994 -0.31473446 -0.048809074 0.1578192 -0.1508394 0.22201145 -0.4310569 -0.04908823 0.031204335 -0.35830662 -0.22233906 -0.05070761 0.26829022 -0.009579534 0.10255571 0.13198996 0.21835503 1.0282946 0.052161198 -0.0669084 0.1384913 0.6784097 -0.1543348 -0.102932416 -0.26997665 -0.10640202 0.05972982 -0.080191776 -0.08490077 -0.1519941 0.54512626 0.021909708 0.30935472 -0.027093457 -0.27454013 0.05446968 0.37497208 -0.30268624 -0.08058369 0.08182568 0.17781745 0.08114312 -0.1681442 -0.15869917 0.06862137 -0.058485128 -0.12499958 0.05865596 -0.15845369 -0.26871023 0.11500879 0.2165039 0.08247635 0.12945433 -0.059571665 0.05720147 0.35881302 -0.24582781 -0.032017455 -0.02050737 0.08968565 -0.20471324 0.094338715 0.03590245 -0.6178973 -0.16412084 0.25526965 0.20590605 1.2755237 0.22364053 -0.040973708 -0.22375251 0.2483952 -0.03902825 -0.2870398 -0.12109653\n",
      "\n",
      "’ 0.04974263 -0.20286535 0.6289389 0.06834168 0.060380388 0.096951626 -0.11008556 -0.122559614 -0.09847439 0.020177018 0.14777479 0.26439518 -0.082482494 0.039732836 0.431537 0.08557557 -0.11337119 0.16305399 0.08555464 -0.4346608 -0.63940394 0.18756075 -0.21368933 0.10003741 -0.07993138 0.13352099 -0.14535326 0.23981822 -0.87628746 0.25531572 0.024301436 -0.654714 0.17669144 -0.55204433 -0.20568572 0.4101166 -0.42489365 -0.3125207 0.13351235 -0.13512377 0.2614587 0.26226944 -0.38471708 0.03090268 0.0014677439 0.3511799 -0.16090107 -0.049695756 0.074961685 -0.01694154 0.2664478 -0.027991248 -0.1510315 -0.29472512 0.18627162 -0.17797166 0.032781538 -0.21270765 0.051235773 0.11473688 0.31994298 0.106543675 -0.59716165 0.4053328 -0.2584731 0.29625076 0.3363986 0.08741775 0.14828067 -0.3507769 -0.6937729 -0.13646096 0.14450783 0.046159748 -0.08094689 -0.14192039 -0.054705422 0.09522748 -0.16603091 -0.18896443 -0.24104886 0.17611952 -0.15986204 0.11334294 0.17645279 0.105895154 -0.009595653 -0.16732615 0.6576905 0.2588931 0.5006879 0.05737775 0.105290845 0.27112678 -0.07840096 -0.02430206 -0.14176615 -0.1422521 0.65200096 0.1847048\n",
      "\n",
      "and 0.21501386 0.3921536 0.1779212 -0.032530017 -0.22528882 -0.0354034 -0.36124426 -0.10915613 -0.44803858 -0.5625788 -0.1573774 -0.0794972 -0.029822884 0.25518295 0.26857212 0.30560762 0.4835866 -0.2560879 0.22290373 0.05707709 0.20606996 0.23441389 0.002706802 0.11708859 -0.09286294 0.08287571 0.3350776 0.10667512 -0.07935877 -0.047505807 -0.58451235 -0.12260733 -0.045762226 0.118939884 -0.09189127 0.31595537 0.05365717 -0.15855464 -0.04907261 0.29668695 0.05685218 -0.10634384 0.4943549 0.13919729 -0.069867514 -0.38921908 -0.018380927 -0.14591783 0.014823835 -0.0131634865 -0.18496345 -0.1162573 -0.06407259 -0.24795361 0.39006633 -0.23694964 0.22729056 0.5446525 -0.14306557 0.40919626 -0.039518915 -0.1547395 -0.03371226 -0.012057636 0.0036561866 0.053775318 -0.22786371 -0.06569158 -0.24483477 0.21640491 0.29251444 0.21663162 0.3580016 0.11944272 0.122262836 0.08461019 -0.09090885 0.06071344 -0.2687436 -0.122189455 -0.62211347 -0.44261554 0.1418475 0.16244571 -0.391022 0.102813244 0.09146412 -0.3170341 0.009115119 -0.07808816 0.28518432 -0.10239821 0.46025866 -0.5744107 0.28671217 -0.1373316 -0.19304152 0.35316557 -0.44734335 0.23519675\n",
      "\n",
      "to 0.31983623 0.54043156 0.01563781 -0.019531794 -0.015212917 -0.40975237 0.31309813 0.5339387 -0.3870386 0.18361177 0.04163943 0.07163082 -0.22199132 0.45550802 0.24935675 0.106178656 0.24860778 0.27807352 -0.17950891 -0.3074872 0.026909739 0.057298835 -0.2398644 0.16587582 0.3287493 0.31496623 0.3812518 0.14764239 0.12145215 -0.079460904 -0.2831167 0.5220691 0.20039798 -0.12794396 -0.108334966 0.298767 0.2680667 -0.1566091 -0.52628434 0.12573567 -0.13527372 0.53640187 0.47613168 0.05310844 -0.30740336 0.42557892 0.24215849 0.09051894 0.024077842 -0.16409343 0.17486873 -0.14787307 0.22943754 0.29085663 0.053729948 0.085389726 -0.16362232 -0.14623584 -0.4791926 0.1834749 0.45212442 -0.009280247 0.3715435 -0.5103069 -0.12751131 0.34772748 -0.17877504 -0.062913135 -0.21227783 -0.3440833 0.15350729 0.07210391 -0.49371865 0.22154512 -0.08015527 0.07799847 0.23449159 -0.045744155 0.5607428 0.28909314 0.39548457 0.0090450235 0.2436424 0.19392832 0.10208031 0.057685368 0.43498805 -0.16790684 0.17920911 0.25684938 -0.29634583 0.5750276 -0.15656514 -0.41736087 0.331284 0.45031777 0.18537968 -0.17361064 0.26769292 0.31051216\n",
      "\n"
     ]
    }
   ],
   "source": [
    "embd = gph.get_weights()[0][:5,:]\n",
    "for word, i in tokenizer.word_index.items():\n",
    "    print('{} {}\\n'.format(word, ' '.join(map(str, list(embd[i, :])))))\n",
    "    if i == 4:\n",
    "        break"
   ]
  },
  {
   "cell_type": "markdown",
   "metadata": {},
   "source": [
    "Reference:\n",
    "\n",
    "* https://github.com/keras-team/keras-preprocessing/blob/master/keras_preprocessing/sequence.py#L143"
   ]
  }
 ],
 "metadata": {
  "kernelspec": {
   "display_name": "conda_tensorflow_p36",
   "language": "python",
   "name": "conda_tensorflow_p36"
  },
  "language_info": {
   "codemirror_mode": {
    "name": "ipython",
    "version": 3
   },
   "file_extension": ".py",
   "mimetype": "text/x-python",
   "name": "python",
   "nbconvert_exporter": "python",
   "pygments_lexer": "ipython3",
   "version": "3.6.5"
  }
 },
 "nbformat": 4,
 "nbformat_minor": 1
}
