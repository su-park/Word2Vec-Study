{
 "cells": [
  {
   "cell_type": "markdown",
   "metadata": {},
   "source": [
    "## SET LIBARY"
   ]
  },
  {
   "cell_type": "code",
   "execution_count": 1,
   "metadata": {},
   "outputs": [
    {
     "name": "stderr",
     "output_type": "stream",
     "text": [
      "Using TensorFlow backend.\n"
     ]
    }
   ],
   "source": [
    "import random\n",
    "import numpy as np\n",
    "np.random.seed(13)\n",
    "import gensim\n",
    "\n",
    "import keras.backend as K\n",
    "from keras.models import Sequential\n",
    "from keras.layers import Embedding, Reshape, Activation, Input, Lambda, Dense\n",
    "\n",
    "from keras.preprocessing import sequence\n",
    "from keras.layers.merge import Dot\n",
    "from keras.utils import np_utils\n",
    "from keras.utils.data_utils import get_file\n",
    "from keras.utils.vis_utils import model_to_dot\n",
    "from keras.preprocessing.text import Tokenizer\n",
    "# from keras.preprocessing.sequence import skipgrams\n",
    "from IPython.display import Image"
   ]
  },
  {
   "cell_type": "code",
   "execution_count": null,
   "metadata": {},
   "outputs": [],
   "source": [
    "!pip install pydot\n",
    "!pip install gensim"
   ]
  },
  {
   "cell_type": "markdown",
   "metadata": {},
   "source": [
    "## DATALOADER"
   ]
  },
  {
   "cell_type": "code",
   "execution_count": 2,
   "metadata": {},
   "outputs": [],
   "source": [
    "def dataloader(corpus, window_size, vocab_size):\n",
    "    maxlen = window_size*2\n",
    "    corpus = tokenizer.texts_to_sequences(corpus)\n",
    "    for words in corpus:\n",
    "        L = len(words)\n",
    "        for index, word in enumerate(words):\n",
    "            contexts = []\n",
    "            labels   = []            \n",
    "            s = index - window_size\n",
    "            e = index + window_size + 1\n",
    "            \n",
    "            contexts.append([words[i] for i in range(s, e) if 0 <= i < L and i != index])\n",
    "            labels.append(word)\n",
    "            x = sequence.pad_sequences(contexts, maxlen=maxlen)\n",
    "            y = np_utils.to_categorical(labels, vocab_size)\n",
    "            yield (x, y)"
   ]
  },
  {
   "cell_type": "code",
   "execution_count": 3,
   "metadata": {},
   "outputs": [
    {
     "name": "stdout",
     "output_type": "stream",
     "text": [
      "Vocabulary size: 3388\n"
     ]
    }
   ],
   "source": [
    "path = get_file('alice.txt', origin='http://www.gutenberg.org/files/11/11-0.txt')\n",
    "corpus = open(path, encoding=\"utf-8\").readlines()\n",
    "corpus = [sentence for sentence in corpus if sentence.count(' ') >= 2]\n",
    "tokenizer = Tokenizer()\n",
    "tokenizer.fit_on_texts(corpus)\n",
    "\n",
    "vocab_size = len(tokenizer.word_index) + 1\n",
    "print(\"Vocabulary size: {}\".format(vocab_size))"
   ]
  },
  {
   "cell_type": "code",
   "execution_count": 4,
   "metadata": {},
   "outputs": [
    {
     "data": {
      "text/plain": [
       "['\\ufeffProject Gutenberg’s Alice’s Adventures in Wonderland, by Lewis Carroll\\n',\n",
       " 'This eBook is for the use of anyone anywhere at no cost and with\\n',\n",
       " 'almost no restrictions whatsoever.  You may copy it, give it away or\\n',\n",
       " 're-use it under the terms of the Project Gutenberg License included\\n',\n",
       " 'with this eBook or online at www.gutenberg.org\\n']"
      ]
     },
     "execution_count": 4,
     "metadata": {},
     "output_type": "execute_result"
    }
   ],
   "source": [
    "corpus[:5]"
   ]
  },
  {
   "cell_type": "code",
   "execution_count": 10,
   "metadata": {},
   "outputs": [
    {
     "name": "stdout",
     "output_type": "stream",
     "text": [
      "Load input data instances: [[   0    0    0    0    0 1295  247  339   10  479]]\n",
      "Size of input data: 10\n",
      "Load label instances: [[0. 0. 0. ... 0. 0. 0.]]\n",
      "Size of label: 3388\n"
     ]
    }
   ],
   "source": [
    "window_size = 5\n",
    "for x_sample, y_sample in dataloader(corpus, window_size, vocab_size):\n",
    "    print(\"Load input data instances: {}\".format(x_sample))\n",
    "    print(\"Size of input data: {}\".format(x_sample.size))\n",
    "    print(\"Load label instances: {}\".format(y_sample))\n",
    "    print(\"Size of label: {}\".format(y_sample.size))\n",
    "    break"
   ]
  },
  {
   "cell_type": "markdown",
   "metadata": {},
   "source": [
    "## SET CBOW GRAPH"
   ]
  },
  {
   "cell_type": "code",
   "execution_count": 11,
   "metadata": {},
   "outputs": [
    {
     "name": "stdout",
     "output_type": "stream",
     "text": [
      "_________________________________________________________________\n",
      "Layer (type)                 Output Shape              Param #   \n",
      "=================================================================\n",
      "embedding_1 (Embedding)      (None, 10, 100)           338800    \n",
      "_________________________________________________________________\n",
      "lambda_1 (Lambda)            (None, 100)               0         \n",
      "_________________________________________________________________\n",
      "dense_1 (Dense)              (None, 3388)              342188    \n",
      "=================================================================\n",
      "Total params: 680,988\n",
      "Trainable params: 680,988\n",
      "Non-trainable params: 0\n",
      "_________________________________________________________________\n"
     ]
    }
   ],
   "source": [
    "dim_embed = 100\n",
    "\n",
    "gph = Sequential()\n",
    "gph.add(Embedding(input_dim=vocab_size, output_dim=dim_embed, input_length=window_size*2))\n",
    "gph.add(Lambda(lambda x: K.mean(x, axis=1), output_shape=(dim_embed, )))\n",
    "gph.add(Dense(vocab_size, activation='softmax'))\n",
    "gph.compile(loss='categorical_crossentropy', optimizer='adadelta')\n",
    "gph.summary()"
   ]
  },
  {
   "cell_type": "code",
   "execution_count": 12,
   "metadata": {
    "scrolled": true
   },
   "outputs": [
    {
     "data": {
      "image/png": "[encoded data removed]",
      "text/plain": [
       "<IPython.core.display.Image object>"
      ]
     },
     "execution_count": 12,
     "metadata": {},
     "output_type": "execute_result"
    }
   ],
   "source": [
    "Image(model_to_dot(gph, show_shapes=True).create(prog='dot', format='png'))"
   ]
  },
  {
   "cell_type": "markdown",
   "metadata": {},
   "source": [
    "## TRAIN"
   ]
  },
  {
   "cell_type": "code",
   "execution_count": 13,
   "metadata": {},
   "outputs": [
    {
     "name": "stdout",
     "output_type": "stream",
     "text": [
      "0 455.06133365631104\n",
      "1 453.7306823730469\n",
      "2 452.33678245544434\n",
      "3 450.8035249710083\n",
      "4 449.06471014022827\n"
     ]
    }
   ],
   "source": [
    "for ite in range(5):\n",
    "    loss = 0.\n",
    "    for x_input, y_label in dataloader(corpus[:5], window_size, vocab_size):\n",
    "        loss += gph.train_on_batch(x_input, y_label)\n",
    "    print(ite, loss)"
   ]
  },
  {
   "cell_type": "markdown",
   "metadata": {},
   "source": [
    "## Embedding"
   ]
  },
  {
   "cell_type": "code",
   "execution_count": 14,
   "metadata": {},
   "outputs": [
    {
     "name": "stdout",
     "output_type": "stream",
     "text": [
      "the -0.038172584 0.011961838 -0.016645832 0.04405228 -0.029251114 0.007384427 -0.05477259 0.03343365 -0.023302406 -0.07674626 -0.020435913 -0.048486173 -0.07644062 -0.042216122 -0.01045193 -0.02111131 0.017610718 0.018048199 0.020333713 0.0012664809 -0.104328655 -0.05086611 -0.07442414 0.019997971 -0.03858403 -0.06748172 0.054785084 -0.011206011 0.033584446 -0.03149614 0.029357411 -0.006719595 0.032970257 0.03964748 0.012927518 0.004154993 -0.060827717 0.03711905 0.00683743 0.04155481 0.07760313 -0.08194715 -0.052018777 -0.06989685 0.06520654 0.0666847 0.059637368 0.011565845 -0.007014358 -0.0025673339 0.035810128 0.022644114 0.0026656261 -0.036255393 0.08231073 -0.0061085834 -0.0048067877 0.042398617 -0.04767837 0.025032328 0.02882453 0.039241306 0.029847737 0.010838982 0.037913743 0.03798535 -0.060050238 -0.031424843 0.01578407 -0.00072235905 -0.017982334 -0.0040946538 0.05922818 -0.050706577 -0.024145871 0.05124148 0.05725088 0.06222361 0.07028452 0.005255854 -0.010432643 -0.005792632 -0.019161684 -0.03562265 -0.009553215 -0.053729933 0.042847484 -0.03048264 -0.04955754 -0.005019926 -0.010131867 -0.0068973186 0.05753329 0.038577113 -0.0052939593 -0.06530443 0.019931054 0.01589176 -0.045718037 0.020886386\n",
      "\n",
      "’ 0.019246046 -0.020393908 0.0033381693 0.027578179 0.024676133 0.042376403 0.022657458 -0.03765123 -0.04400301 -0.013616193 -0.011168145 0.023468424 -0.021491302 0.029567722 0.0426152 0.020268392 -0.024491144 0.0171105 -0.030181551 -0.035624553 -0.045241214 0.04280648 -0.031003201 0.0434595 0.021345828 0.015282478 -0.014731467 0.026878964 -0.037640322 0.0102604255 0.00828303 -0.037331115 0.030517269 -0.016195785 -0.02763753 0.03056914 0.0013899691 -0.04702547 -0.027026689 -0.020580018 0.04356425 0.03014424 -0.038360666 0.0006277561 -0.00233569 0.026156198 -0.0070202947 0.014633562 0.0021106005 0.009598732 -0.022869874 -0.014066696 -0.019267369 -0.011909388 0.046613026 -0.04454713 -0.0036046281 0.0018468127 0.013978604 0.0055491813 0.0054476857 0.015299235 -0.0050393455 0.046758007 -0.043867674 0.025895897 0.03573421 0.0025748983 0.0043775067 -0.034622587 0.0037673935 -0.010442853 0.027201641 0.0038793907 0.0028351173 -0.02315718 -0.041721903 0.02075572 -0.0485379 -0.037667133 -0.003325425 0.0057501197 -0.022749055 0.013394821 0.034742642 0.030594949 -0.01293651 -0.019203937 0.024196077 -0.0003554225 0.041408096 0.014413085 0.016654659 -0.0056006536 0.0013040788 0.011452496 0.0012890808 -0.043935575 0.033706162 0.041661028\n",
      "\n",
      "and 0.03859517 0.027016548 0.053488042 0.025039298 -0.06859533 -0.065422915 -0.04204899 -0.039240155 -0.035217732 -0.059441924 -0.020125726 -0.05474338 0.006643847 0.023215652 0.018855838 0.002514406 0.039907545 -0.048682958 0.064988 0.016790476 -0.009428457 0.036388867 -0.06273284 0.0044280915 0.03274818 -0.0034210621 0.03307545 0.0073573254 -0.0044344543 0.0043699876 -0.025328057 -0.04192385 0.039637867 -0.024208812 0.033247463 0.05484439 -0.049424123 -0.045786157 0.044777777 0.02212092 0.014748825 -0.04738151 0.021239605 0.0021581626 0.038507182 0.0059004263 -0.0003640426 -0.04100856 0.0017038533 0.07257448 0.0044509964 0.009390976 -0.019857477 -0.01792029 0.030035228 -0.037674524 0.037588745 0.04205011 -0.045939673 0.0646954 0.0009982688 0.0042500156 -0.023907345 -0.00025013066 -0.011008622 0.009792797 -0.022065684 -0.02165544 -0.028913964 0.01463684 -0.03963472 0.04852497 0.05813779 0.018495634 -0.007016378 0.018524805 -0.013789186 0.0013493912 -0.0045485394 -0.027107997 -0.012149011 -0.04180481 0.03319937 0.033799905 -0.071060814 0.008155719 -0.00917438 -0.038278177 0.0119690085 -0.0011238671 0.04919663 -0.045256075 -0.0022975109 -0.040804394 0.018079434 -0.046641983 -0.026554747 0.042251967 -0.024316521 0.00088496716\n",
      "\n",
      "to 0.048907768 0.033637334 0.039140318 0.020279396 0.010118581 -0.019026756 0.03662033 0.038951244 0.030230705 0.04487166 -0.01554371 0.003119193 -0.028856874 0.028981436 0.028673973 0.029665913 -0.027518606 0.042383853 -0.0010346174 -0.04454131 0.029340517 0.043852676 -0.046142615 -0.018377863 0.043226544 0.02699064 0.047684614 0.0036476962 0.0069016814 0.010564625 -0.017831814 -0.01618918 0.04663897 0.0047159903 -0.00016940758 0.034399394 0.020107184 -0.020200824 -0.024989057 0.016938876 -0.042067267 0.022394028 -0.036360633 0.006721746 -0.027935196 0.047182087 0.046472285 -0.020527197 -0.006792821 -0.011397541 0.015382875 -0.044534422 0.044013526 0.023126926 -0.046605885 0.018596303 -0.015166618 -0.019760191 -0.047086503 0.030885901 0.027837683 -0.0067317113 0.040927116 -0.02750646 -0.030342484 0.043275144 -0.041397773 -0.023342585 -0.039205693 -0.033964835 -0.0010579601 0.03434432 -0.03958558 0.026180293 -0.00961088 -0.0049928315 0.0038182735 0.01794875 0.047350798 0.0028281584 0.02236477 0.035519335 0.04739281 0.02984703 0.0070234165 0.024403129 0.026699338 -0.027382387 0.042627465 0.041338887 -0.048914958 0.025395703 -0.0033760183 -0.033446208 0.0043866523 0.0468616 0.04800478 -0.014042925 0.039335337 -0.019089663\n",
      "\n"
     ]
    }
   ],
   "source": [
    "embd = gph.get_weights()[0][:5,:]\n",
    "for word, i in tokenizer.word_index.items():\n",
    "    print('{} {}\\n'.format(word, ' '.join(map(str, list(embd[i, :])))))\n",
    "    if i == 4:\n",
    "        break"
   ]
  },
  {
   "cell_type": "markdown",
   "metadata": {},
   "source": [
    "Reference:\n",
    "\n",
    "* https://github.com/nzw0301/keras-examples/blob/master/CBoW.ipynb"
   ]
  }
 ],
 "metadata": {
  "kernelspec": {
   "display_name": "conda_tensorflow_p36",
   "language": "python",
   "name": "conda_tensorflow_p36"
  },
  "language_info": {
   "codemirror_mode": {
    "name": "ipython",
    "version": 3
   },
   "file_extension": ".py",
   "mimetype": "text/x-python",
   "name": "python",
   "nbconvert_exporter": "python",
   "pygments_lexer": "ipython3",
   "version": "3.6.5"
  }
 },
 "nbformat": 4,
 "nbformat_minor": 1
}
